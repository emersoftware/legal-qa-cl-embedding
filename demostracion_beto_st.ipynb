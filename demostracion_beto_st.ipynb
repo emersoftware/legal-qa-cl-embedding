{
 "cells": [
  {
   "cell_type": "code",
   "execution_count": 1,
   "metadata": {},
   "outputs": [],
   "source": [
    "from langchain.document_loaders import DirectoryLoader\n",
    "from langchain.document_loaders import JSONLoader\n",
    "from langchain.vectorstores import Chroma\n",
    "from langchain.embeddings import HuggingFaceEmbeddings\n",
    "import pandas as pd\n",
    "import numpy as np\n",
    "import torch\n",
    "import matplotlib.pyplot as plt"
   ]
  },
  {
   "cell_type": "code",
   "execution_count": 2,
   "metadata": {},
   "outputs": [],
   "source": [
    "df = pd.read_csv('./qa_dataset_legal_filter_heuristic_curated.csv')\n",
    "\n",
    "device = 'cuda' if torch.cuda.is_available() else 'cpu'\n",
    "devide = 'mps' if torch.backends.mps.is_available() else device"
   ]
  },
  {
   "cell_type": "code",
   "execution_count": 3,
   "metadata": {},
   "outputs": [
    {
     "name": "stderr",
     "output_type": "stream",
     "text": [
      "/opt/homebrew/lib/python3.11/site-packages/tqdm/auto.py:21: TqdmWarning: IProgress not found. Please update jupyter and ipywidgets. See https://ipywidgets.readthedocs.io/en/stable/user_install.html\n",
      "  from .autonotebook import tqdm as notebook_tqdm\n"
     ]
    }
   ],
   "source": [
    "random_question = df['pregunta'].sample(n=1).iloc[0]\n",
    "\n",
    "embeddings = HuggingFaceEmbeddings(model_name='emersoftware/beto-st-msmarco-es-mnrl', model_kwargs={'device': device})\n",
    "db = Chroma(collection_name='titulos', persist_directory=\"vectordb/emersoftware/beto-st-msmarco-es-mnrl\", embedding_function=embeddings)\n",
    "\n",
    "retrieved_docs = db.similarity_search(random_question, k=4)"
   ]
  },
  {
   "cell_type": "code",
   "execution_count": 4,
   "metadata": {},
   "outputs": [
    {
     "name": "stdout",
     "output_type": "stream",
     "text": [
      "Pregunta:  ¿Cuál es el objetivo  de la Ley de  Donaciones Culturales?\n",
      "Recuperación: \n",
      "modifica la ley sobre donaciones con fines culturales\n",
      "contenida en el articulo 8º de la ley nº18.985 y otras\n",
      "disposiciones tributarias\n",
      "modifica la ley n° 19.451, con el fin de determinar quiénes pueden ser considerados donantes de órganos y la forma en que pueden manifestar su voluntad\n",
      "modifica la ley nº 19.451 respecto a la determinación de quiénes pueden ser considerados donantes de órganos\n",
      "aprueba reglamento de la ley nº 19.451, que establece normas sobre trasplante y donación de órganos\n"
     ]
    }
   ],
   "source": [
    "print(\"Pregunta: \", random_question)\n",
    "print(\"Recuperación: \")\n",
    "\n",
    "for doc in retrieved_docs:\n",
    "    print(doc.page_content)"
   ]
  }
 ],
 "metadata": {
  "kernelspec": {
   "display_name": "Python 3",
   "language": "python",
   "name": "python3"
  },
  "language_info": {
   "codemirror_mode": {
    "name": "ipython",
    "version": 3
   },
   "file_extension": ".py",
   "mimetype": "text/x-python",
   "name": "python",
   "nbconvert_exporter": "python",
   "pygments_lexer": "ipython3",
   "version": "3.11.6"
  }
 },
 "nbformat": 4,
 "nbformat_minor": 2
}
